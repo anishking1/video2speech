{
 "cells": [
  {
   "cell_type": "code",
   "execution_count": 1,
   "metadata": {
    "collapsed": false
   },
   "outputs": [
    {
     "name": "stdout",
     "output_type": "stream",
     "text": [
      "Populating the interactive namespace from numpy and matplotlib\n"
     ]
    },
    {
     "name": "stderr",
     "output_type": "stream",
     "text": [
      "/Applications/anaconda/lib/python2.7/site-packages/librosa/core/audio.py:37: UserWarning: Could not import scikits.samplerate. Falling back to scipy.signal\n",
      "  warnings.warn('Could not import scikits.samplerate. '\n"
     ]
    }
   ],
   "source": [
    "%pylab inline\n",
    "from __future__ import print_function\n",
    "\n",
    "import cPickle as pickle\n",
    "import enum\n",
    "import os\n",
    "import time\n",
    "import IPython\n",
    "\n",
    "import numpy as np\n",
    "import scipy\n",
    "import sklearn.metrics.pairwise\n",
    "\n",
    "import librosa\n",
    "\n",
    "from moviepy.editor import *"
   ]
  },
  {
   "cell_type": "code",
   "execution_count": 2,
   "metadata": {
    "collapsed": false
   },
   "outputs": [
    {
     "data": {
      "text/plain": [
       "<matplotlib.colorbar.Colorbar at 0x1100c99d0>"
      ]
     },
     "execution_count": 2,
     "metadata": {},
     "output_type": "execute_result"
    },
    {
     "data": {
      "image/png": "[encoded data removed]",
      "text/plain": [
       "<matplotlib.figure.Figure at 0x10fe8ff90>"
      ]
     },
     "metadata": {},
     "output_type": "display_data"
    }
   ],
   "source": [
    "def read_beat_chroma_labels(filename):\n",
    "    \"\"\"Read back a precomputed beat-synchronous chroma record.\"\"\"\n",
    "    with open(filename, 'rb') as f:\n",
    "        beat_times, chroma_features, label_indices = pickle.load(f)\n",
    "    return beat_times, chroma_features, label_indices\n",
    "\n",
    "def my_imshow(data, **kwargs):\n",
    "    \"\"\"Wrapper for imshow that sets common defaults.\"\"\"\n",
    "    plt.imshow(data, interpolation='nearest', aspect='auto', origin='bottom', cmap='gray_r', **kwargs)\n",
    "    \n",
    "# Where to find the data (on my machine).\n",
    "DATA_DIR = '/Users/the_goat/Desktop/final_project_thunderbolt/'\n",
    "FEATURES_DIR = os.path.join(DATA_DIR, 'beatchromftrs')\n",
    "\n",
    "def chroma_for_id(id_):\n",
    "    \"\"\"Return just the chroma array for a given ID.\"\"\"\n",
    "    _, chroma, _ = read_beat_chroma_labels(os.path.join(FEATURES_DIR, id_ + '.pkl'))\n",
    "    return chroma\n",
    "\n",
    "# Look at the first chunk of chroma features for audio track\n",
    "ftrs_1 = chroma_for_id('1')\n",
    "ftrs_2 = chroma_for_id('one')\n",
    "\n",
    "plt.figure(figsize=(8,4))\n",
    "subplot(211)\n",
    "my_imshow(ftrs_1[:100].transpose())\n",
    "colorbar()\n",
    "subplot(212)\n",
    "my_imshow(ftrs_2[:100].transpose())\n",
    "colorbar()"
   ]
  },
  {
   "cell_type": "code",
   "execution_count": 3,
   "metadata": {
    "collapsed": false
   },
   "outputs": [
    {
     "data": {
      "text/plain": [
       "<matplotlib.colorbar.Colorbar at 0x110452310>"
      ]
     },
     "execution_count": 3,
     "metadata": {},
     "output_type": "execute_result"
    },
    {
     "data": {
      "image/png": "[encoded data removed]",
      "text/plain": [
       "<matplotlib.figure.Figure at 0x104f46250>"
      ]
     },
     "metadata": {},
     "output_type": "display_data"
    }
   ],
   "source": [
    "# Make an \"all pairs\" distance matrix.\n",
    "index = 0\n",
    "local_costs = sklearn.metrics.pairwise.pairwise_distances(chroma_for_id('1'), \n",
    "                                                          chroma_for_id('one'), metric='cosine')\n",
    "plt.figure(figsize=(6,5))\n",
    "limit = 200\n",
    "my_imshow(local_costs[:limit, :limit])\n",
    "colorbar()"
   ]
  },
  {
   "cell_type": "code",
   "execution_count": 4,
   "metadata": {
    "collapsed": true
   },
   "outputs": [],
   "source": [
    "# Define the core DTW calculation.\n",
    "import numba\n",
    "\n",
    "DIAGONAL = 0\n",
    "HORIZONTAL = 1\n",
    "VERTICAL = 2\n",
    "\n",
    "@numba.jit(nopython=True)\n",
    "def dtw_core(dist_mat, penalty, traceback):\n",
    "    \"\"\"Core dynamic programming routine for DTW.\n",
    "    `dist_mat` and `traceback` will be modified in-place.\n",
    "\n",
    "    Args:\n",
    "      dist_mat : np.ndarray\n",
    "        Distance matrix to update with lowest-cost path to each entry.\n",
    "      penalty : int or float\n",
    "        Additive penalty for non-diagonal moves.\n",
    "      traceback : np.ndarray\n",
    "        Matrix to populate with the lowest-cost traceback from each entry.\n",
    "    \"\"\"\n",
    "    # At each iteration, we are computing lowest cost to D[row, col].\n",
    "    for row in xrange(1, dist_mat.shape[0]):\n",
    "        dist_mat[row, 0] += dist_mat[row - 1, 0] + penalty\n",
    "        traceback[row, 0] = VERTICAL\n",
    "    for col in xrange(1, dist_mat.shape[1]):\n",
    "        dist_mat[0, col] += dist_mat[0, col - 1] + penalty\n",
    "        traceback[0, col] = HORIZONTAL\n",
    "    for col in xrange(1, dist_mat.shape[1]):\n",
    "        for row in xrange(1, dist_mat.shape[0]):\n",
    "            diag_cost = dist_mat[row - 1, col - 1]\n",
    "            vert_cost = dist_mat[row - 1, col] + penalty\n",
    "            horiz_cost = dist_mat[row, col - 1] + penalty\n",
    "            # Diagonal move (which has no penalty) is lowest\n",
    "            if diag_cost <= horiz_cost and diag_cost <= vert_cost:\n",
    "                traceback[row, col] = DIAGONAL\n",
    "                dist_mat[row, col] += diag_cost\n",
    "            # Horizontal move (has penalty)\n",
    "            elif horiz_cost <= vert_cost:\n",
    "                traceback[row, col] = HORIZONTAL\n",
    "                dist_mat[row, col] += horiz_cost\n",
    "            # Vertical move (has penalty)\n",
    "            else:\n",
    "                traceback[row, col] = VERTICAL\n",
    "                dist_mat[row, col] += vert_cost\n",
    "\n",
    "def find_traceback(traceback_matrix, ending_row, ending_col, local_costs_matrix=None):\n",
    "    \"\"\"Decode the traceback matrix from the given ending point to a full path.\"\"\"\n",
    "    row = ending_row\n",
    "    col = ending_col\n",
    "    path = [(row, col)]\n",
    "    path_costs = []\n",
    "    if local_costs_matrix is not None:\n",
    "        path_costs.append(local_costs_matrix[row, col])\n",
    "    while row > 0 or col > 0:\n",
    "        predecessor = traceback_matrix[row, col]\n",
    "        if predecessor == HORIZONTAL:\n",
    "            col = col - 1\n",
    "        elif predecessor == VERTICAL:\n",
    "            row = row - 1\n",
    "        else:\n",
    "            col = col - 1\n",
    "            row = row - 1\n",
    "        path.append((row, col))\n",
    "        if local_costs_matrix is not None:\n",
    "            path_costs.append(local_costs_matrix[row, col])\n",
    "    return np.array(path[::-1]), np.array(path_costs[::-1])\n",
    "\n",
    "def dtw(local_costs, penalty=0.2):\n",
    "    \"\"\"Perform DTW over a local_costs matrix and return path, best cost, and path costs.\"\"\"\n",
    "    distance_matrix = np.copy(local_costs)\n",
    "    traceback = np.empty(distance_matrix.shape, np.uint8)\n",
    "    dtw_core(distance_matrix, penalty, traceback)\n",
    "    path, path_costs = find_traceback(traceback, distance_matrix.shape[0] - 1, distance_matrix.shape[1] - 1, \n",
    "                                      local_costs + penalty*(traceback != DIAGONAL))\n",
    "    return path, distance_matrix[-1, -1], path_costs"
   ]
  },
  {
   "cell_type": "code",
   "execution_count": 5,
   "metadata": {
    "collapsed": false
   },
   "outputs": [
    {
     "data": {
      "image/png": "[encoded data removed]",
      "text/plain": [
       "<matplotlib.figure.Figure at 0x11027aa10>"
      ]
     },
     "metadata": {},
     "output_type": "display_data"
    }
   ],
   "source": [
    "# Calculate DTW through the local_costs matrix and plot the path atop the local costs.\n",
    "path, best_cost, path_costs = dtw(local_costs)\n",
    "\n",
    "limit = 1.5 \n",
    "plt.figure(figsize=(6,5))\n",
    "my_imshow(local_costs)\n",
    "colorbar()\n",
    "plot(path[:, 1], path[:, 0], '-r')\n",
    "if limit:\n",
    "    ylim([0, limit])\n",
    "    xlim([0, limit])"
   ]
  },
  {
   "cell_type": "code",
   "execution_count": 6,
   "metadata": {
    "collapsed": false,
    "scrolled": true
   },
   "outputs": [
    {
     "name": "stdout",
     "output_type": "stream",
     "text": [
      "Mean:\n",
      "0.247573883563\n",
      "Median:\n",
      "0.247573883563\n",
      "Fri May  6 00:05:48 2016 0 of 8 \n",
      "Fri May  6 00:05:48 2016 1 of 8 \n",
      "Fri May  6 00:05:48 2016 2 of 8 \n",
      "Fri May  6 00:05:48 2016 3 of 8 \n",
      "Fri May  6 00:05:48 2016 4 of 8 \n",
      "Fri May  6 00:05:48 2016 5 of 8 \n",
      "Fri May  6 00:05:48 2016 6 of 8 \n",
      "Fri May  6 00:05:48 2016 7 of 8 \n",
      "Time per comparison= 0.00168134375 seconds.\n",
      "Reference: \n",
      "['one', 'one', 'seven', 'seven', 'two', 'two', 'four', 'four']\n",
      "Input: \n",
      "['1', '1', '7', '7', '2', '2', '4', '4']\n"
     ]
    },
    {
     "data": {
      "image/png": "[encoded data removed]",
      "text/plain": [
       "<matplotlib.figure.Figure at 0x112bc7e10>"
      ]
     },
     "metadata": {},
     "output_type": "display_data"
    },
    {
     "data": {
      "image/png": "[encoded data removed]",
      "text/plain": [
       "<matplotlib.figure.Figure at 0x112c20950>"
      ]
     },
     "metadata": {},
     "output_type": "display_data"
    }
   ],
   "source": [
    "# Looking at the per-step costs down the best path give some measure of match quality.\n",
    "plot(path_costs)\n",
    "print(\"Mean:\")\n",
    "print(np.mean(path_costs))\n",
    "print(\"Median:\")\n",
    "print(+ np.median(path_costs))\n",
    "\n",
    "\n",
    "def calculate_track_distance_matrix(ids_A, ids_B, distance_function):\n",
    "    \"\"\"Pass all pairs of tracks to a distance function, return array.\"\"\"\n",
    "    start_time = time.clock()\n",
    "    scores = np.zeros((len(ids_A), len(ids_B)))\n",
    "    for n_A, id_A in enumerate(ids_A):\n",
    "        ftrs_A = chroma_for_id(id_A)\n",
    "        print(time.ctime(), n_A, \"of\", len(ids_A), os.path.dirname(id_A))\n",
    "        for n_B, id_B in enumerate(ids_B):\n",
    "            scores[n_A, n_B] = distance_function(ftrs_A, chroma_for_id(id_B))\n",
    "    print(\"Time per comparison=\", (time.clock() - start_time)/(len(ids_A) * len(ids_B)), \"seconds.\")\n",
    "    return scores\n",
    "\n",
    "# Calculate distances over test set using median path cost.\n",
    "def dtw_distance(ftrs_A, ftrs_B):\n",
    "    \"\"\"Return a cover song match score as the best cost of locally-normalized local costs.\"\"\"\n",
    "    local_costs = sklearn.metrics.pairwise.pairwise_distances(ftrs_A, ftrs_B, metric='cosine')\n",
    "    path, total_costs, path_cost = dtw(local_costs, penalty=0.2)\n",
    "    return np.median(path_cost)\n",
    "\n",
    "ids_B = ['1', '1', '7', '7', '2', '2', '4', '4']\n",
    "ids_A = ['one', 'one', 'seven', 'seven', 'two', 'two', 'four', 'four']\n",
    "eval_size = 20\n",
    "\n",
    "dtw_distances = calculate_track_distance_matrix(ids_A[:eval_size], ids_B[:eval_size], dtw_distance)\n",
    "\n",
    "print(\"Reference: \")\n",
    "print(ids_A)\n",
    "print(\"Input: \")\n",
    "print(ids_B)\n",
    "\n",
    "def score_track_distance_matrix(track_distance_matrix, ids_A=None):\n",
    "    \"\"\"Score the results of a cover song run, and plot the confusion matrix.\"\"\"\n",
    "    plt.figure(figsize=(6,5))\n",
    "    my_imshow(track_distance_matrix)\n",
    "    colorbar()\n",
    "    # Find the index of the smallest distance (best match) in each row.\n",
    "    per_row_match_index = np.argmin(track_distance_matrix, axis=1)\n",
    "    num_items = track_distance_matrix.shape[0]\n",
    "    plot(per_row_match_index, np.arange(num_items), 'or')\n",
    "    xlim([-0.5, num_items - 0.5])\n",
    "    ylim([-0.5, num_items - 0.5])\n",
    "    if ids_A is not None:\n",
    "        yticks(np.arange(num_items), [os.path.dirname(id) for id in ids_A])\n",
    "    # What proportion are the known true answer (where the best match column matches the row)?\n",
    "    accuracy = np.mean(per_row_match_index == np.arange(len(per_row_match_index)))\n",
    "    return per_row_match_index\n",
    "\n",
    "per_row_match_index = score_track_distance_matrix(dtw_distances, ids_A[:eval_size]) \n"
   ]
  },
  {
   "cell_type": "code",
   "execution_count": 7,
   "metadata": {
    "collapsed": false
   },
   "outputs": [
    {
     "name": "stdout",
     "output_type": "stream",
     "text": [
      "input: one\n",
      "match: 2\n",
      "input: one\n",
      "match: 2\n",
      "input: seven\n",
      "match: 2\n",
      "input: seven\n",
      "match: 2\n",
      "input: two\n",
      "match: 2\n",
      "input: two\n",
      "match: 2\n",
      "input: four\n",
      "match: 1\n",
      "input: four\n",
      "match: 1\n",
      "['2', '2', '2', '2', '2', '2', '1', '1']\n",
      "[MoviePy] >>>> Building video /Users/the_goat/Desktop/final_project_thunderbolt/final.webm\n",
      "[MoviePy] Writing audio in finalTEMP_MPY_wvf_snd.ogg\n"
     ]
    },
    {
     "name": "stderr",
     "output_type": "stream",
     "text": [
      "100%|██████████| 208/208 [00:00<00:00, 454.54it/s]\n"
     ]
    },
    {
     "name": "stdout",
     "output_type": "stream",
     "text": [
      "[MoviePy] Done.\n",
      "[MoviePy] Writing video /Users/the_goat/Desktop/final_project_thunderbolt/final.webm\n"
     ]
    },
    {
     "name": "stderr",
     "output_type": "stream",
     "text": [
      "100%|██████████| 283/283 [00:32<00:00, 14.93it/s]\n"
     ]
    },
    {
     "name": "stdout",
     "output_type": "stream",
     "text": [
      "[MoviePy] Done.\n",
      "[MoviePy] >>>> Video ready: /Users/the_goat/Desktop/final_project_thunderbolt/final.webm \n",
      "\n"
     ]
    }
   ],
   "source": [
    "# construct array of clip names to build new video\n",
    "video_order = []\n",
    "for i in range(0, len(per_row_match_index)):\n",
    "    print('input: ' + ids_A[i])\n",
    "    print('match: ' + ids_B[per_row_match_index[i]])\n",
    "    video_order.append(ids_B[per_row_match_index[i]])\n",
    "print(video_order) \n",
    "\n",
    "# loop through and concatenate videos\n",
    "videos = []\n",
    "for i in video_order:\n",
    "    videos.append(VideoFileClip(DATA_DIR + \"vid/\" + i + \".mp4\"))\n",
    "    \n",
    "final_clip = concatenate_videoclips(videos)\n",
    "final_clip.write_videofile(DATA_DIR + \"final.webm\")"
   ]
  }
 ],
 "metadata": {
  "kernelspec": {
   "display_name": "Python 2",
   "language": "python",
   "name": "python2"
  },
  "language_info": {
   "codemirror_mode": {
    "name": "ipython",
    "version": 2
   },
   "file_extension": ".py",
   "mimetype": "text/x-python",
   "name": "python",
   "nbconvert_exporter": "python",
   "pygments_lexer": "ipython2",
   "version": "2.7.11"
  }
 },
 "nbformat": 4,
 "nbformat_minor": 0
}
